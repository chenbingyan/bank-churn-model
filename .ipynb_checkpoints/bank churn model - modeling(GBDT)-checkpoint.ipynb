{
 "cells": [
  {
   "cell_type": "code",
   "execution_count": 1,
   "metadata": {},
   "outputs": [
    {
     "name": "stderr",
     "output_type": "stream",
     "text": [
      "D:\\Anaconda3\\lib\\site-packages\\sklearn\\cross_validation.py:41: DeprecationWarning: This module was deprecated in version 0.18 in favor of the model_selection module into which all the refactored classes and functions are moved. Also note that the interface of the new CV iterators are different from that of this module. This module will be removed in 0.20.\n",
      "  \"This module will be removed in 0.20.\", DeprecationWarning)\n"
     ]
    }
   ],
   "source": [
    "import pandas as pd\n",
    "from sklearn import ensemble, cross_validation, metrics\n",
    "from sklearn.ensemble import GradientBoostingClassifier\n",
    "from sklearn.cross_validation import train_test_split\n",
    "from sklearn.cross_validation import KFold\n",
    "from sklearn.model_selection import GridSearchCV"
   ]
  },
  {
   "cell_type": "code",
   "execution_count": 2,
   "metadata": {},
   "outputs": [
    {
     "data": {
      "text/html": [
       "<div>\n",
       "<style>\n",
       "    .dataframe thead tr:only-child th {\n",
       "        text-align: right;\n",
       "    }\n",
       "\n",
       "    .dataframe thead th {\n",
       "        text-align: left;\n",
       "    }\n",
       "\n",
       "    .dataframe tbody tr th {\n",
       "        vertical-align: top;\n",
       "    }\n",
       "</style>\n",
       "<table border=\"1\" class=\"dataframe\">\n",
       "  <thead>\n",
       "    <tr style=\"text-align: right;\">\n",
       "      <th></th>\n",
       "      <th>LOCAL_CUR_SAV_SLOPE</th>\n",
       "      <th>LOCAL_CUR_MON_AVG_BAL</th>\n",
       "      <th>LOCAL_OVEONEYR_FF_MON_AVG_BAL</th>\n",
       "      <th>LOCAL_FIX_MON_AVG_BAL</th>\n",
       "      <th>LOCAL_FIX_MON_AVG_BAL_PROP</th>\n",
       "      <th>LOCAL_BELONEYR_FF_SLOPE</th>\n",
       "      <th>LOCAL_BELONEYR_FF_MON_AVG_BAL</th>\n",
       "      <th>LOCAL_OVEONEYR_FF_SLOPE</th>\n",
       "      <th>LOCAL_SAV_SLOPE</th>\n",
       "      <th>LOCAL_SAV_CUR_ALL_BAL</th>\n",
       "      <th>...</th>\n",
       "      <th>kid6_10_nan</th>\n",
       "      <th>kid11_15_U</th>\n",
       "      <th>kid11_15_Y</th>\n",
       "      <th>kid11_15_nan</th>\n",
       "      <th>kid16_17_U</th>\n",
       "      <th>kid16_17_Y</th>\n",
       "      <th>kid16_17_nan</th>\n",
       "      <th>car_buy_New</th>\n",
       "      <th>car_buy_UNKNOWN</th>\n",
       "      <th>car_buy_nan</th>\n",
       "    </tr>\n",
       "  </thead>\n",
       "  <tbody>\n",
       "    <tr>\n",
       "      <th>0</th>\n",
       "      <td>0.333333</td>\n",
       "      <td>0.000000</td>\n",
       "      <td>0.009068</td>\n",
       "      <td>0.001157</td>\n",
       "      <td>1.000000</td>\n",
       "      <td>0.344437</td>\n",
       "      <td>0.0</td>\n",
       "      <td>0.333284</td>\n",
       "      <td>0.333196</td>\n",
       "      <td>9.277653e-04</td>\n",
       "      <td>...</td>\n",
       "      <td>0.0</td>\n",
       "      <td>1.0</td>\n",
       "      <td>0.0</td>\n",
       "      <td>0.0</td>\n",
       "      <td>1.0</td>\n",
       "      <td>0.0</td>\n",
       "      <td>0.0</td>\n",
       "      <td>1.0</td>\n",
       "      <td>0.0</td>\n",
       "      <td>0.0</td>\n",
       "    </tr>\n",
       "    <tr>\n",
       "      <th>1</th>\n",
       "      <td>0.668564</td>\n",
       "      <td>0.002648</td>\n",
       "      <td>0.010078</td>\n",
       "      <td>0.001286</td>\n",
       "      <td>0.735565</td>\n",
       "      <td>0.344437</td>\n",
       "      <td>0.0</td>\n",
       "      <td>0.293169</td>\n",
       "      <td>0.345716</td>\n",
       "      <td>7.225051e-04</td>\n",
       "      <td>...</td>\n",
       "      <td>0.0</td>\n",
       "      <td>1.0</td>\n",
       "      <td>0.0</td>\n",
       "      <td>0.0</td>\n",
       "      <td>1.0</td>\n",
       "      <td>0.0</td>\n",
       "      <td>0.0</td>\n",
       "      <td>1.0</td>\n",
       "      <td>0.0</td>\n",
       "      <td>0.0</td>\n",
       "    </tr>\n",
       "    <tr>\n",
       "      <th>2</th>\n",
       "      <td>0.333521</td>\n",
       "      <td>0.000002</td>\n",
       "      <td>0.000000</td>\n",
       "      <td>0.000000</td>\n",
       "      <td>0.000000</td>\n",
       "      <td>0.344437</td>\n",
       "      <td>0.0</td>\n",
       "      <td>0.344442</td>\n",
       "      <td>0.344545</td>\n",
       "      <td>4.032385e-07</td>\n",
       "      <td>...</td>\n",
       "      <td>0.0</td>\n",
       "      <td>1.0</td>\n",
       "      <td>0.0</td>\n",
       "      <td>0.0</td>\n",
       "      <td>1.0</td>\n",
       "      <td>0.0</td>\n",
       "      <td>0.0</td>\n",
       "      <td>1.0</td>\n",
       "      <td>0.0</td>\n",
       "      <td>0.0</td>\n",
       "    </tr>\n",
       "    <tr>\n",
       "      <th>3</th>\n",
       "      <td>0.149696</td>\n",
       "      <td>0.003858</td>\n",
       "      <td>0.000000</td>\n",
       "      <td>0.000000</td>\n",
       "      <td>0.000000</td>\n",
       "      <td>0.344437</td>\n",
       "      <td>0.0</td>\n",
       "      <td>0.344442</td>\n",
       "      <td>0.154644</td>\n",
       "      <td>7.529284e-04</td>\n",
       "      <td>...</td>\n",
       "      <td>0.0</td>\n",
       "      <td>1.0</td>\n",
       "      <td>0.0</td>\n",
       "      <td>0.0</td>\n",
       "      <td>1.0</td>\n",
       "      <td>0.0</td>\n",
       "      <td>0.0</td>\n",
       "      <td>0.0</td>\n",
       "      <td>1.0</td>\n",
       "      <td>0.0</td>\n",
       "    </tr>\n",
       "    <tr>\n",
       "      <th>4</th>\n",
       "      <td>0.333429</td>\n",
       "      <td>0.000005</td>\n",
       "      <td>0.000000</td>\n",
       "      <td>0.000000</td>\n",
       "      <td>0.000000</td>\n",
       "      <td>0.344437</td>\n",
       "      <td>0.0</td>\n",
       "      <td>0.344442</td>\n",
       "      <td>0.344450</td>\n",
       "      <td>7.852062e-07</td>\n",
       "      <td>...</td>\n",
       "      <td>0.0</td>\n",
       "      <td>1.0</td>\n",
       "      <td>0.0</td>\n",
       "      <td>0.0</td>\n",
       "      <td>0.0</td>\n",
       "      <td>1.0</td>\n",
       "      <td>0.0</td>\n",
       "      <td>1.0</td>\n",
       "      <td>0.0</td>\n",
       "      <td>0.0</td>\n",
       "    </tr>\n",
       "  </tbody>\n",
       "</table>\n",
       "<p>5 rows × 178 columns</p>\n",
       "</div>"
      ],
      "text/plain": [
       "   LOCAL_CUR_SAV_SLOPE  LOCAL_CUR_MON_AVG_BAL  LOCAL_OVEONEYR_FF_MON_AVG_BAL  \\\n",
       "0             0.333333               0.000000                       0.009068   \n",
       "1             0.668564               0.002648                       0.010078   \n",
       "2             0.333521               0.000002                       0.000000   \n",
       "3             0.149696               0.003858                       0.000000   \n",
       "4             0.333429               0.000005                       0.000000   \n",
       "\n",
       "   LOCAL_FIX_MON_AVG_BAL  LOCAL_FIX_MON_AVG_BAL_PROP  LOCAL_BELONEYR_FF_SLOPE  \\\n",
       "0               0.001157                    1.000000                 0.344437   \n",
       "1               0.001286                    0.735565                 0.344437   \n",
       "2               0.000000                    0.000000                 0.344437   \n",
       "3               0.000000                    0.000000                 0.344437   \n",
       "4               0.000000                    0.000000                 0.344437   \n",
       "\n",
       "   LOCAL_BELONEYR_FF_MON_AVG_BAL  LOCAL_OVEONEYR_FF_SLOPE  LOCAL_SAV_SLOPE  \\\n",
       "0                            0.0                 0.333284         0.333196   \n",
       "1                            0.0                 0.293169         0.345716   \n",
       "2                            0.0                 0.344442         0.344545   \n",
       "3                            0.0                 0.344442         0.154644   \n",
       "4                            0.0                 0.344442         0.344450   \n",
       "\n",
       "   LOCAL_SAV_CUR_ALL_BAL     ...       kid6_10_nan  kid11_15_U  kid11_15_Y  \\\n",
       "0           9.277653e-04     ...               0.0         1.0         0.0   \n",
       "1           7.225051e-04     ...               0.0         1.0         0.0   \n",
       "2           4.032385e-07     ...               0.0         1.0         0.0   \n",
       "3           7.529284e-04     ...               0.0         1.0         0.0   \n",
       "4           7.852062e-07     ...               0.0         1.0         0.0   \n",
       "\n",
       "   kid11_15_nan  kid16_17_U  kid16_17_Y  kid16_17_nan  car_buy_New  \\\n",
       "0           0.0         1.0         0.0           0.0          1.0   \n",
       "1           0.0         1.0         0.0           0.0          1.0   \n",
       "2           0.0         1.0         0.0           0.0          1.0   \n",
       "3           0.0         1.0         0.0           0.0          0.0   \n",
       "4           0.0         0.0         1.0           0.0          1.0   \n",
       "\n",
       "   car_buy_UNKNOWN  car_buy_nan  \n",
       "0              0.0          0.0  \n",
       "1              0.0          0.0  \n",
       "2              0.0          0.0  \n",
       "3              1.0          0.0  \n",
       "4              0.0          0.0  \n",
       "\n",
       "[5 rows x 178 columns]"
      ]
     },
     "execution_count": 2,
     "metadata": {},
     "output_type": "execute_result"
    }
   ],
   "source": [
    "model_data = pd.read_csv('./model_data.csv', encoding='utf-8')\n",
    "model_data.head()"
   ]
  },
  {
   "cell_type": "code",
   "execution_count": 3,
   "metadata": {
    "collapsed": true
   },
   "outputs": [],
   "source": [
    "all_features = list(model_data.columns)\n",
    "all_features.remove('CHURN_CUST_IND')"
   ]
  },
  {
   "cell_type": "code",
   "execution_count": 4,
   "metadata": {
    "collapsed": true
   },
   "outputs": [],
   "source": [
    "X_train,  X_test, y_train, y_test = train_test_split(model_data[all_features], model_data['CHURN_CUST_IND'], test_size=0.3, random_state=1)"
   ]
  },
  {
   "cell_type": "code",
   "execution_count": 5,
   "metadata": {},
   "outputs": [
    {
     "name": "stdout",
     "output_type": "stream",
     "text": [
      "y_train_count:  0.0    10851\n",
      "1.0     1217\n",
      "Name: CHURN_CUST_IND, dtype: int64\n",
      "y_test_count:  0.0    4649\n",
      "1.0     524\n",
      "Name: CHURN_CUST_IND, dtype: int64\n"
     ]
    }
   ],
   "source": [
    "print('y_train_count: ', y_train.value_counts())\n",
    "print('y_test_count: ', y_test.value_counts())"
   ]
  },
  {
   "cell_type": "code",
   "execution_count": 6,
   "metadata": {},
   "outputs": [
    {
     "name": "stdout",
     "output_type": "stream",
     "text": [
      "Accuracy : 0.9115\n",
      "AUC Score (Testing): 0.855843\n"
     ]
    }
   ],
   "source": [
    "# 使用GBDT模块的默认参数进行训练\n",
    "gbm0 = GradientBoostingClassifier(random_state=10)\n",
    "gbm0.fit(X_train,y_train)\n",
    "y_pred = gbm0.predict(X_test)\n",
    "y_predprob = gbm0.predict_proba(X_test)[:,1]\n",
    "print(\"Accuracy : %.4g\" % metrics.accuracy_score(y_test, y_pred))\n",
    "print (\"AUC Score (Testing): %f\" % metrics.roc_auc_score(y_test, y_predprob))"
   ]
  },
  {
   "cell_type": "code",
   "execution_count": null,
   "metadata": {
    "collapsed": true
   },
   "outputs": [],
   "source": []
  }
 ],
 "metadata": {
  "kernelspec": {
   "display_name": "Python 3",
   "language": "python",
   "name": "python3"
  },
  "language_info": {
   "codemirror_mode": {
    "name": "ipython",
    "version": 3
   },
   "file_extension": ".py",
   "mimetype": "text/x-python",
   "name": "python",
   "nbconvert_exporter": "python",
   "pygments_lexer": "ipython3",
   "version": "3.6.3"
  }
 },
 "nbformat": 4,
 "nbformat_minor": 2
}
