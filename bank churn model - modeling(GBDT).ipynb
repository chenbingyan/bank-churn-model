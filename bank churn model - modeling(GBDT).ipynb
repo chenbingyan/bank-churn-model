{
 "cells": [
  {
   "cell_type": "code",
   "execution_count": 47,
   "metadata": {},
   "outputs": [],
   "source": [
    "import pandas as pd\n",
    "from sklearn import ensemble, cross_validation, metrics\n",
    "from sklearn.ensemble import GradientBoostingClassifier\n",
    "from sklearn.cross_validation import train_test_split\n",
    "from sklearn.cross_validation import KFold\n",
    "from sklearn.model_selection import GridSearchCV\n",
    "from sklearn.metrics import roc_curve, auc\n",
    "import matplotlib.pyplot as plt"
   ]
  },
  {
   "cell_type": "code",
   "execution_count": 2,
   "metadata": {},
   "outputs": [
    {
     "data": {
      "text/html": [
       "<div>\n",
       "<style>\n",
       "    .dataframe thead tr:only-child th {\n",
       "        text-align: right;\n",
       "    }\n",
       "\n",
       "    .dataframe thead th {\n",
       "        text-align: left;\n",
       "    }\n",
       "\n",
       "    .dataframe tbody tr th {\n",
       "        vertical-align: top;\n",
       "    }\n",
       "</style>\n",
       "<table border=\"1\" class=\"dataframe\">\n",
       "  <thead>\n",
       "    <tr style=\"text-align: right;\">\n",
       "      <th></th>\n",
       "      <th>LOCAL_CUR_SAV_SLOPE</th>\n",
       "      <th>LOCAL_CUR_MON_AVG_BAL</th>\n",
       "      <th>LOCAL_OVEONEYR_FF_MON_AVG_BAL</th>\n",
       "      <th>LOCAL_FIX_MON_AVG_BAL</th>\n",
       "      <th>LOCAL_FIX_MON_AVG_BAL_PROP</th>\n",
       "      <th>LOCAL_BELONEYR_FF_SLOPE</th>\n",
       "      <th>LOCAL_BELONEYR_FF_MON_AVG_BAL</th>\n",
       "      <th>LOCAL_OVEONEYR_FF_SLOPE</th>\n",
       "      <th>LOCAL_SAV_SLOPE</th>\n",
       "      <th>LOCAL_SAV_CUR_ALL_BAL</th>\n",
       "      <th>...</th>\n",
       "      <th>kid6_10_nan</th>\n",
       "      <th>kid11_15_U</th>\n",
       "      <th>kid11_15_Y</th>\n",
       "      <th>kid11_15_nan</th>\n",
       "      <th>kid16_17_U</th>\n",
       "      <th>kid16_17_Y</th>\n",
       "      <th>kid16_17_nan</th>\n",
       "      <th>car_buy_New</th>\n",
       "      <th>car_buy_UNKNOWN</th>\n",
       "      <th>car_buy_nan</th>\n",
       "    </tr>\n",
       "  </thead>\n",
       "  <tbody>\n",
       "    <tr>\n",
       "      <th>0</th>\n",
       "      <td>0.333333</td>\n",
       "      <td>0.000000</td>\n",
       "      <td>0.009068</td>\n",
       "      <td>0.001157</td>\n",
       "      <td>1.000000</td>\n",
       "      <td>0.344437</td>\n",
       "      <td>0.0</td>\n",
       "      <td>0.333284</td>\n",
       "      <td>0.333196</td>\n",
       "      <td>9.277653e-04</td>\n",
       "      <td>...</td>\n",
       "      <td>0.0</td>\n",
       "      <td>1.0</td>\n",
       "      <td>0.0</td>\n",
       "      <td>0.0</td>\n",
       "      <td>1.0</td>\n",
       "      <td>0.0</td>\n",
       "      <td>0.0</td>\n",
       "      <td>1.0</td>\n",
       "      <td>0.0</td>\n",
       "      <td>0.0</td>\n",
       "    </tr>\n",
       "    <tr>\n",
       "      <th>1</th>\n",
       "      <td>0.668564</td>\n",
       "      <td>0.002648</td>\n",
       "      <td>0.010078</td>\n",
       "      <td>0.001286</td>\n",
       "      <td>0.735565</td>\n",
       "      <td>0.344437</td>\n",
       "      <td>0.0</td>\n",
       "      <td>0.293169</td>\n",
       "      <td>0.345716</td>\n",
       "      <td>7.225051e-04</td>\n",
       "      <td>...</td>\n",
       "      <td>0.0</td>\n",
       "      <td>1.0</td>\n",
       "      <td>0.0</td>\n",
       "      <td>0.0</td>\n",
       "      <td>1.0</td>\n",
       "      <td>0.0</td>\n",
       "      <td>0.0</td>\n",
       "      <td>1.0</td>\n",
       "      <td>0.0</td>\n",
       "      <td>0.0</td>\n",
       "    </tr>\n",
       "    <tr>\n",
       "      <th>2</th>\n",
       "      <td>0.333521</td>\n",
       "      <td>0.000002</td>\n",
       "      <td>0.000000</td>\n",
       "      <td>0.000000</td>\n",
       "      <td>0.000000</td>\n",
       "      <td>0.344437</td>\n",
       "      <td>0.0</td>\n",
       "      <td>0.344442</td>\n",
       "      <td>0.344545</td>\n",
       "      <td>4.032385e-07</td>\n",
       "      <td>...</td>\n",
       "      <td>0.0</td>\n",
       "      <td>1.0</td>\n",
       "      <td>0.0</td>\n",
       "      <td>0.0</td>\n",
       "      <td>1.0</td>\n",
       "      <td>0.0</td>\n",
       "      <td>0.0</td>\n",
       "      <td>1.0</td>\n",
       "      <td>0.0</td>\n",
       "      <td>0.0</td>\n",
       "    </tr>\n",
       "    <tr>\n",
       "      <th>3</th>\n",
       "      <td>0.149696</td>\n",
       "      <td>0.003858</td>\n",
       "      <td>0.000000</td>\n",
       "      <td>0.000000</td>\n",
       "      <td>0.000000</td>\n",
       "      <td>0.344437</td>\n",
       "      <td>0.0</td>\n",
       "      <td>0.344442</td>\n",
       "      <td>0.154644</td>\n",
       "      <td>7.529284e-04</td>\n",
       "      <td>...</td>\n",
       "      <td>0.0</td>\n",
       "      <td>1.0</td>\n",
       "      <td>0.0</td>\n",
       "      <td>0.0</td>\n",
       "      <td>1.0</td>\n",
       "      <td>0.0</td>\n",
       "      <td>0.0</td>\n",
       "      <td>0.0</td>\n",
       "      <td>1.0</td>\n",
       "      <td>0.0</td>\n",
       "    </tr>\n",
       "    <tr>\n",
       "      <th>4</th>\n",
       "      <td>0.333429</td>\n",
       "      <td>0.000005</td>\n",
       "      <td>0.000000</td>\n",
       "      <td>0.000000</td>\n",
       "      <td>0.000000</td>\n",
       "      <td>0.344437</td>\n",
       "      <td>0.0</td>\n",
       "      <td>0.344442</td>\n",
       "      <td>0.344450</td>\n",
       "      <td>7.852062e-07</td>\n",
       "      <td>...</td>\n",
       "      <td>0.0</td>\n",
       "      <td>1.0</td>\n",
       "      <td>0.0</td>\n",
       "      <td>0.0</td>\n",
       "      <td>0.0</td>\n",
       "      <td>1.0</td>\n",
       "      <td>0.0</td>\n",
       "      <td>1.0</td>\n",
       "      <td>0.0</td>\n",
       "      <td>0.0</td>\n",
       "    </tr>\n",
       "  </tbody>\n",
       "</table>\n",
       "<p>5 rows × 178 columns</p>\n",
       "</div>"
      ],
      "text/plain": [
       "   LOCAL_CUR_SAV_SLOPE  LOCAL_CUR_MON_AVG_BAL  LOCAL_OVEONEYR_FF_MON_AVG_BAL  \\\n",
       "0             0.333333               0.000000                       0.009068   \n",
       "1             0.668564               0.002648                       0.010078   \n",
       "2             0.333521               0.000002                       0.000000   \n",
       "3             0.149696               0.003858                       0.000000   \n",
       "4             0.333429               0.000005                       0.000000   \n",
       "\n",
       "   LOCAL_FIX_MON_AVG_BAL  LOCAL_FIX_MON_AVG_BAL_PROP  LOCAL_BELONEYR_FF_SLOPE  \\\n",
       "0               0.001157                    1.000000                 0.344437   \n",
       "1               0.001286                    0.735565                 0.344437   \n",
       "2               0.000000                    0.000000                 0.344437   \n",
       "3               0.000000                    0.000000                 0.344437   \n",
       "4               0.000000                    0.000000                 0.344437   \n",
       "\n",
       "   LOCAL_BELONEYR_FF_MON_AVG_BAL  LOCAL_OVEONEYR_FF_SLOPE  LOCAL_SAV_SLOPE  \\\n",
       "0                            0.0                 0.333284         0.333196   \n",
       "1                            0.0                 0.293169         0.345716   \n",
       "2                            0.0                 0.344442         0.344545   \n",
       "3                            0.0                 0.344442         0.154644   \n",
       "4                            0.0                 0.344442         0.344450   \n",
       "\n",
       "   LOCAL_SAV_CUR_ALL_BAL     ...       kid6_10_nan  kid11_15_U  kid11_15_Y  \\\n",
       "0           9.277653e-04     ...               0.0         1.0         0.0   \n",
       "1           7.225051e-04     ...               0.0         1.0         0.0   \n",
       "2           4.032385e-07     ...               0.0         1.0         0.0   \n",
       "3           7.529284e-04     ...               0.0         1.0         0.0   \n",
       "4           7.852062e-07     ...               0.0         1.0         0.0   \n",
       "\n",
       "   kid11_15_nan  kid16_17_U  kid16_17_Y  kid16_17_nan  car_buy_New  \\\n",
       "0           0.0         1.0         0.0           0.0          1.0   \n",
       "1           0.0         1.0         0.0           0.0          1.0   \n",
       "2           0.0         1.0         0.0           0.0          1.0   \n",
       "3           0.0         1.0         0.0           0.0          0.0   \n",
       "4           0.0         0.0         1.0           0.0          1.0   \n",
       "\n",
       "   car_buy_UNKNOWN  car_buy_nan  \n",
       "0              0.0          0.0  \n",
       "1              0.0          0.0  \n",
       "2              0.0          0.0  \n",
       "3              1.0          0.0  \n",
       "4              0.0          0.0  \n",
       "\n",
       "[5 rows x 178 columns]"
      ]
     },
     "execution_count": 2,
     "metadata": {},
     "output_type": "execute_result"
    }
   ],
   "source": [
    "model_data = pd.read_csv('./model_data.csv', encoding='utf-8')\n",
    "model_data.head()"
   ]
  },
  {
   "cell_type": "code",
   "execution_count": 3,
   "metadata": {
    "collapsed": true
   },
   "outputs": [],
   "source": [
    "all_features = list(model_data.columns)\n",
    "all_features.remove('CHURN_CUST_IND')"
   ]
  },
  {
   "cell_type": "code",
   "execution_count": 4,
   "metadata": {
    "collapsed": true
   },
   "outputs": [],
   "source": [
    "X_train,  X_test, y_train, y_test = train_test_split(model_data[all_features], model_data['CHURN_CUST_IND'], test_size=0.3, random_state=1)"
   ]
  },
  {
   "cell_type": "code",
   "execution_count": 5,
   "metadata": {},
   "outputs": [
    {
     "name": "stdout",
     "output_type": "stream",
     "text": [
      "y_train_count:  0.0    10851\n",
      "1.0     1217\n",
      "Name: CHURN_CUST_IND, dtype: int64\n",
      "y_test_count:  0.0    4649\n",
      "1.0     524\n",
      "Name: CHURN_CUST_IND, dtype: int64\n"
     ]
    }
   ],
   "source": [
    "print('y_train_count: ', y_train.value_counts())\n",
    "print('y_test_count: ', y_test.value_counts())"
   ]
  },
  {
   "cell_type": "code",
   "execution_count": 6,
   "metadata": {},
   "outputs": [
    {
     "name": "stdout",
     "output_type": "stream",
     "text": [
      "Accuracy : 0.9115\n",
      "AUC Score (Testing): 0.855843\n"
     ]
    }
   ],
   "source": [
    "# 使用GBDT模块的默认参数进行训练\n",
    "gbm0 = GradientBoostingClassifier(random_state=10)\n",
    "gbm0.fit(X_train,y_train)\n",
    "y_pred = gbm0.predict(X_test)\n",
    "y_predprob = gbm0.predict_proba(X_test)[:,1]\n",
    "print(\"Accuracy : %.4g\" % metrics.accuracy_score(y_test, y_pred))\n",
    "print (\"AUC Score (Testing): %f\" % metrics.roc_auc_score(y_test, y_predprob))"
   ]
  },
  {
   "cell_type": "code",
   "execution_count": 12,
   "metadata": {},
   "outputs": [
    {
     "data": {
      "text/plain": [
       "<bound method BaseEstimator.get_params of GradientBoostingClassifier(criterion='friedman_mse', init=None,\n",
       "              learning_rate=0.1, loss='deviance', max_depth=3,\n",
       "              max_features=None, max_leaf_nodes=None,\n",
       "              min_impurity_decrease=0.0, min_impurity_split=None,\n",
       "              min_samples_leaf=1, min_samples_split=2,\n",
       "              min_weight_fraction_leaf=0.0, n_estimators=100,\n",
       "              presort='auto', random_state=10, subsample=1.0, verbose=0,\n",
       "              warm_start=False)>"
      ]
     },
     "execution_count": 12,
     "metadata": {},
     "output_type": "execute_result"
    }
   ],
   "source": [
    "gbm0.get_params"
   ]
  },
  {
   "cell_type": "code",
   "execution_count": 20,
   "metadata": {},
   "outputs": [
    {
     "data": {
      "text/plain": [
       "GridSearchCV(cv=5, error_score='raise',\n",
       "       estimator=GradientBoostingClassifier(criterion='friedman_mse', init=None,\n",
       "              learning_rate=0.1, loss='deviance', max_depth=5,\n",
       "              max_features=1.0, max_leaf_nodes=None,\n",
       "              min_impurity_decrease=0.0, min_impurity_split=None,\n",
       "              min_samples_leaf=20, min_samples_split=300,\n",
       "              min_weight_fraction_leaf=0.0, n_estimators=100,\n",
       "              presort='auto', random_state=10, subsample=0.8, verbose=0,\n",
       "              warm_start=False),\n",
       "       fit_params=None, iid=False, n_jobs=1,\n",
       "       param_grid={'n_estimators': range(50, 201, 10)},\n",
       "       pre_dispatch='2*n_jobs', refit=True, return_train_score='warn',\n",
       "       scoring='roc_auc', verbose=0)"
      ]
     },
     "execution_count": 20,
     "metadata": {},
     "output_type": "execute_result"
    }
   ],
   "source": [
    "# 对estimator进行参数调优\n",
    "param_test1 = {'n_estimators': range(50, 201, 10)}\n",
    "est1 = GridSearchCV(estimator=GradientBoostingClassifier(learning_rate=0.1, min_samples_split=300, min_samples_leaf=20, max_depth=5, \n",
    "                                                                max_features=1.0, subsample=0.8, random_state=10), \n",
    "                           param_grid = param_test1, scoring='roc_auc', iid=False, cv=5)\n",
    "est1.fit(X_train, y_train)"
   ]
  },
  {
   "cell_type": "code",
   "execution_count": 21,
   "metadata": {},
   "outputs": [
    {
     "name": "stderr",
     "output_type": "stream",
     "text": [
      "D:\\Anaconda3\\lib\\site-packages\\sklearn\\model_selection\\_search.py:761: DeprecationWarning: The grid_scores_ attribute was deprecated in version 0.18 in favor of the more elaborate cv_results_ attribute. The grid_scores_ attribute will not be available from 0.20\n",
      "  DeprecationWarning)\n"
     ]
    },
    {
     "data": {
      "text/plain": [
       "[mean: 0.85970, std: 0.01218, params: {'n_estimators': 50},\n",
       " mean: 0.85998, std: 0.01228, params: {'n_estimators': 60},\n",
       " mean: 0.86043, std: 0.01162, params: {'n_estimators': 70},\n",
       " mean: 0.86064, std: 0.01188, params: {'n_estimators': 80},\n",
       " mean: 0.86067, std: 0.01115, params: {'n_estimators': 90},\n",
       " mean: 0.86028, std: 0.01136, params: {'n_estimators': 100},\n",
       " mean: 0.85983, std: 0.01133, params: {'n_estimators': 110},\n",
       " mean: 0.85983, std: 0.01136, params: {'n_estimators': 120},\n",
       " mean: 0.85962, std: 0.01143, params: {'n_estimators': 130},\n",
       " mean: 0.85910, std: 0.01211, params: {'n_estimators': 140},\n",
       " mean: 0.85833, std: 0.01207, params: {'n_estimators': 150},\n",
       " mean: 0.85808, std: 0.01135, params: {'n_estimators': 160},\n",
       " mean: 0.85829, std: 0.01167, params: {'n_estimators': 170},\n",
       " mean: 0.85774, std: 0.01135, params: {'n_estimators': 180},\n",
       " mean: 0.85699, std: 0.01170, params: {'n_estimators': 190},\n",
       " mean: 0.85577, std: 0.01126, params: {'n_estimators': 200}]"
      ]
     },
     "execution_count": 21,
     "metadata": {},
     "output_type": "execute_result"
    }
   ],
   "source": [
    "est1.grid_scores_"
   ]
  },
  {
   "cell_type": "code",
   "execution_count": 22,
   "metadata": {},
   "outputs": [
    {
     "data": {
      "text/plain": [
       "{'n_estimators': 90}"
      ]
     },
     "execution_count": 22,
     "metadata": {},
     "output_type": "execute_result"
    }
   ],
   "source": [
    "est1.best_params_"
   ]
  },
  {
   "cell_type": "code",
   "execution_count": 23,
   "metadata": {},
   "outputs": [
    {
     "data": {
      "text/plain": [
       "0.8606705972896014"
      ]
     },
     "execution_count": 23,
     "metadata": {},
     "output_type": "execute_result"
    }
   ],
   "source": [
    "est1.best_score_"
   ]
  },
  {
   "cell_type": "code",
   "execution_count": 25,
   "metadata": {},
   "outputs": [
    {
     "name": "stdout",
     "output_type": "stream",
     "text": [
      "Accuracy : 0.9103\n",
      "AUC Score (Testing): 0.858071\n"
     ]
    }
   ],
   "source": [
    "gbm1 = GradientBoostingClassifier(n_estimators=90, learning_rate=0.1, min_samples_split=300, min_samples_leaf=20, max_depth=8, \n",
    "                                max_features=1.0, subsample=0.8, random_state=10)\n",
    "gbm1.fit(X_train,y_train)\n",
    "y_pred = gbm1.predict(X_test)\n",
    "y_predprob = gbm1.predict_proba(X_test)[:,1]\n",
    "print(\"Accuracy : %.4g\" % metrics.accuracy_score(y_test, y_pred))\n",
    "print (\"AUC Score (Testing): %f\" % metrics.roc_auc_score(y_test, y_predprob))"
   ]
  },
  {
   "cell_type": "code",
   "execution_count": 31,
   "metadata": {},
   "outputs": [
    {
     "data": {
      "text/plain": [
       "GridSearchCV(cv=5, error_score='raise',\n",
       "       estimator=GradientBoostingClassifier(criterion='friedman_mse', init=None,\n",
       "              learning_rate=0.1, loss='deviance', max_depth=3,\n",
       "              max_features=1.0, max_leaf_nodes=None,\n",
       "              min_impurity_decrease=0.0, min_impurity_split=None,\n",
       "              min_samples_leaf=20, min_samples_split=300,\n",
       "              min_weight_fraction_leaf=0.0, n_estimators=90,\n",
       "              presort='auto', random_state=10, subsample=0.8, verbose=0,\n",
       "              warm_start=False),\n",
       "       fit_params=None, iid=False, n_jobs=1,\n",
       "       param_grid={'max_depth': range(5, 16, 2)}, pre_dispatch='2*n_jobs',\n",
       "       refit=True, return_train_score='warn', scoring='roc_auc', verbose=0)"
      ]
     },
     "execution_count": 31,
     "metadata": {},
     "output_type": "execute_result"
    }
   ],
   "source": [
    "# 对max_depth进行调优\n",
    "param_test2 = {'max_depth': range(5, 16, 2)}\n",
    "est2 = GridSearchCV(estimator=GradientBoostingClassifier(n_estimators=90, learning_rate=0.1, min_samples_split=300, min_samples_leaf=20,\n",
    "                                max_features=1.0, subsample=0.8, random_state=10),\n",
    "                   param_grid=param_test2, scoring='roc_auc', iid=False, cv=5)\n",
    "est2.fit(X_train, y_train)"
   ]
  },
  {
   "cell_type": "code",
   "execution_count": 32,
   "metadata": {},
   "outputs": [
    {
     "name": "stderr",
     "output_type": "stream",
     "text": [
      "D:\\Anaconda3\\lib\\site-packages\\sklearn\\model_selection\\_search.py:761: DeprecationWarning: The grid_scores_ attribute was deprecated in version 0.18 in favor of the more elaborate cv_results_ attribute. The grid_scores_ attribute will not be available from 0.20\n",
      "  DeprecationWarning)\n"
     ]
    },
    {
     "data": {
      "text/plain": [
       "[mean: 0.86067, std: 0.01115, params: {'max_depth': 5},\n",
       " mean: 0.85743, std: 0.00934, params: {'max_depth': 7},\n",
       " mean: 0.85636, std: 0.01054, params: {'max_depth': 9},\n",
       " mean: 0.85099, std: 0.00972, params: {'max_depth': 11},\n",
       " mean: 0.85169, std: 0.01273, params: {'max_depth': 13},\n",
       " mean: 0.84906, std: 0.01225, params: {'max_depth': 15}]"
      ]
     },
     "execution_count": 32,
     "metadata": {},
     "output_type": "execute_result"
    }
   ],
   "source": [
    "est2.grid_scores_"
   ]
  },
  {
   "cell_type": "code",
   "execution_count": 33,
   "metadata": {},
   "outputs": [
    {
     "data": {
      "text/plain": [
       "{'max_depth': 5}"
      ]
     },
     "execution_count": 33,
     "metadata": {},
     "output_type": "execute_result"
    }
   ],
   "source": [
    "est2.best_params_"
   ]
  },
  {
   "cell_type": "code",
   "execution_count": 34,
   "metadata": {},
   "outputs": [
    {
     "data": {
      "text/plain": [
       "0.8606705972896014"
      ]
     },
     "execution_count": 34,
     "metadata": {},
     "output_type": "execute_result"
    }
   ],
   "source": [
    "est2.best_score_"
   ]
  },
  {
   "cell_type": "code",
   "execution_count": 35,
   "metadata": {},
   "outputs": [
    {
     "name": "stdout",
     "output_type": "stream",
     "text": [
      "Accuracy : 0.9126\n",
      "AUC Score (Testing): 0.859257\n"
     ]
    }
   ],
   "source": [
    "gbm2 = GradientBoostingClassifier(n_estimators=90, learning_rate=0.1, min_samples_split=300, min_samples_leaf=20, max_depth=5, \n",
    "                                max_features=1.0, subsample=0.8, random_state=10)\n",
    "gbm2.fit(X_train,y_train)\n",
    "y_pred = gbm2.predict(X_test)\n",
    "y_predprob = gbm2.predict_proba(X_test)[:,1]\n",
    "print(\"Accuracy : %.4g\" % metrics.accuracy_score(y_test, y_pred))\n",
    "print (\"AUC Score (Testing): %f\" % metrics.roc_auc_score(y_test, y_predprob))"
   ]
  },
  {
   "cell_type": "code",
   "execution_count": 37,
   "metadata": {},
   "outputs": [
    {
     "data": {
      "text/plain": [
       "GridSearchCV(cv=5, error_score='raise',\n",
       "       estimator=GradientBoostingClassifier(criterion='friedman_mse', init=None,\n",
       "              learning_rate=0.1, loss='deviance', max_depth=5,\n",
       "              max_features=1.0, max_leaf_nodes=None,\n",
       "              min_impurity_decrease=0.0, min_impurity_split=None,\n",
       "              min_samples_leaf=20, min_samples_split=300,\n",
       "              min_weight_fraction_leaf=0.0, n_estimators=90,\n",
       "              presort='auto', random_state=10, subsample=0.8, verbose=0,\n",
       "              warm_start=False),\n",
       "       fit_params=None, iid=False, n_jobs=1,\n",
       "       param_grid={'learning_rate': [0.01, 0.05, 0.1, 0.15]},\n",
       "       pre_dispatch='2*n_jobs', refit=True, return_train_score='warn',\n",
       "       scoring='roc_auc', verbose=0)"
      ]
     },
     "execution_count": 37,
     "metadata": {},
     "output_type": "execute_result"
    }
   ],
   "source": [
    "# 对learning_rate进行调优\n",
    "param_test3 = {'learning_rate': [0.01, 0.05, 0.1, 0.15]}\n",
    "est3 = GridSearchCV(estimator=GradientBoostingClassifier(n_estimators=90, max_depth=5, min_samples_split=300, min_samples_leaf=20,\n",
    "                                max_features=1.0, subsample=0.8, random_state=10),\n",
    "                   param_grid=param_test3, scoring='roc_auc', iid=False, cv=5)\n",
    "est3.fit(X_train, y_train)"
   ]
  },
  {
   "cell_type": "code",
   "execution_count": 38,
   "metadata": {},
   "outputs": [
    {
     "name": "stderr",
     "output_type": "stream",
     "text": [
      "D:\\Anaconda3\\lib\\site-packages\\sklearn\\model_selection\\_search.py:761: DeprecationWarning: The grid_scores_ attribute was deprecated in version 0.18 in favor of the more elaborate cv_results_ attribute. The grid_scores_ attribute will not be available from 0.20\n",
      "  DeprecationWarning)\n"
     ]
    },
    {
     "data": {
      "text/plain": [
       "[mean: 0.85457, std: 0.01371, params: {'learning_rate': 0.01},\n",
       " mean: 0.86058, std: 0.01204, params: {'learning_rate': 0.05},\n",
       " mean: 0.86067, std: 0.01115, params: {'learning_rate': 0.1},\n",
       " mean: 0.85709, std: 0.01315, params: {'learning_rate': 0.15}]"
      ]
     },
     "execution_count": 38,
     "metadata": {},
     "output_type": "execute_result"
    }
   ],
   "source": [
    "est3.grid_scores_"
   ]
  },
  {
   "cell_type": "code",
   "execution_count": 39,
   "metadata": {},
   "outputs": [
    {
     "data": {
      "text/plain": [
       "{'learning_rate': 0.1}"
      ]
     },
     "execution_count": 39,
     "metadata": {},
     "output_type": "execute_result"
    }
   ],
   "source": [
    "est3.best_params_"
   ]
  },
  {
   "cell_type": "code",
   "execution_count": 40,
   "metadata": {},
   "outputs": [
    {
     "data": {
      "text/plain": [
       "0.8606705972896014"
      ]
     },
     "execution_count": 40,
     "metadata": {},
     "output_type": "execute_result"
    }
   ],
   "source": [
    "est3.best_score_"
   ]
  },
  {
   "cell_type": "code",
   "execution_count": 41,
   "metadata": {},
   "outputs": [
    {
     "data": {
      "text/plain": [
       "GridSearchCV(cv=5, error_score='raise',\n",
       "       estimator=GradientBoostingClassifier(criterion='friedman_mse', init=None,\n",
       "              learning_rate=0.1, loss='deviance', max_depth=5,\n",
       "              max_features=None, max_leaf_nodes=None,\n",
       "              min_impurity_decrease=0.0, min_impurity_split=None,\n",
       "              min_samples_leaf=20, min_samples_split=300,\n",
       "              min_weight_fraction_leaf=0.0, n_estimators=90,\n",
       "              presort='auto', random_state=10, subsample=0.8, verbose=0,\n",
       "              warm_start=False),\n",
       "       fit_params=None, iid=False, n_jobs=1,\n",
       "       param_grid={'max_features': (0.3, 0.5, 0.8, 1.0)},\n",
       "       pre_dispatch='2*n_jobs', refit=True, return_train_score='warn',\n",
       "       scoring='roc_auc', verbose=0)"
      ]
     },
     "execution_count": 41,
     "metadata": {},
     "output_type": "execute_result"
    }
   ],
   "source": [
    "# 对max_features进行调优\n",
    "param_test4 = {'max_features': (0.3, 0.5, 0.8, 1.0)}\n",
    "est4 = GridSearchCV(estimator=GradientBoostingClassifier(n_estimators=90, learning_rate=0.1, min_samples_split=300, min_samples_leaf=20,\n",
    "                                max_depth=5, subsample=0.8, random_state=10),\n",
    "                   param_grid=param_test4, scoring='roc_auc', iid=False, cv=5)\n",
    "est4.fit(X_train, y_train)"
   ]
  },
  {
   "cell_type": "code",
   "execution_count": 42,
   "metadata": {},
   "outputs": [
    {
     "name": "stderr",
     "output_type": "stream",
     "text": [
      "D:\\Anaconda3\\lib\\site-packages\\sklearn\\model_selection\\_search.py:761: DeprecationWarning: The grid_scores_ attribute was deprecated in version 0.18 in favor of the more elaborate cv_results_ attribute. The grid_scores_ attribute will not be available from 0.20\n",
      "  DeprecationWarning)\n"
     ]
    },
    {
     "data": {
      "text/plain": [
       "[mean: 0.85937, std: 0.01201, params: {'max_features': 0.3},\n",
       " mean: 0.85815, std: 0.01321, params: {'max_features': 0.5},\n",
       " mean: 0.85989, std: 0.01139, params: {'max_features': 0.8},\n",
       " mean: 0.86067, std: 0.01115, params: {'max_features': 1.0}]"
      ]
     },
     "execution_count": 42,
     "metadata": {},
     "output_type": "execute_result"
    }
   ],
   "source": [
    "est4.grid_scores_"
   ]
  },
  {
   "cell_type": "code",
   "execution_count": 43,
   "metadata": {},
   "outputs": [
    {
     "data": {
      "text/plain": [
       "{'max_features': 1.0}"
      ]
     },
     "execution_count": 43,
     "metadata": {},
     "output_type": "execute_result"
    }
   ],
   "source": [
    "est4.best_params_"
   ]
  },
  {
   "cell_type": "code",
   "execution_count": 44,
   "metadata": {},
   "outputs": [
    {
     "data": {
      "text/plain": [
       "0.8606705972896014"
      ]
     },
     "execution_count": 44,
     "metadata": {},
     "output_type": "execute_result"
    }
   ],
   "source": [
    "est4.best_score_"
   ]
  },
  {
   "cell_type": "code",
   "execution_count": 51,
   "metadata": {},
   "outputs": [
    {
     "data": {
      "image/png": "[encoded data removed]",
      "text/plain": [
       "<matplotlib.figure.Figure at 0x1b6cdf2f2b0>"
      ]
     },
     "metadata": {},
     "output_type": "display_data"
    }
   ],
   "source": [
    "# 综合以上的参数调优，重新构建一个新的模型\n",
    "clf = GradientBoostingClassifier(n_estimators=90, learning_rate=0.1, min_samples_split=300, min_samples_leaf=20,\n",
    "                                max_depth=5, max_features=1.0, subsample=0.8, random_state=10)\n",
    "clf.fit(X_train, y_train)\n",
    "y_predict_proba = clf.predict_proba(X_test)[:,1]\n",
    "fpr, tpr, thresholds = roc_curve(y_test, y_predict_proba)\n",
    "roc_auc = auc(fpr, tpr)\n",
    "fig = plt.figure(figsize=(6, 6))\n",
    "ax = fig.add_subplot(111)\n",
    "ax.plot(fpr, tpr, lw=1, label='ROC (area = %.2f)' % (roc_auc))\n",
    "ax.plot([0, 1], [0, 1], '--', color='red', label='luck')\n",
    "ax.set_xlabel('False Positive Rate')\n",
    "ax.set_ylabel('True Positive Rate')\n",
    "ax.set_title('Receive Operating Characteristic')\n",
    "ax.legend(loc='lower right')\n",
    "plt.show()"
   ]
  },
  {
   "cell_type": "code",
   "execution_count": null,
   "metadata": {
    "collapsed": true
   },
   "outputs": [],
   "source": []
  }
 ],
 "metadata": {
  "kernelspec": {
   "display_name": "Python 3",
   "language": "python",
   "name": "python3"
  },
  "language_info": {
   "codemirror_mode": {
    "name": "ipython",
    "version": 3
   },
   "file_extension": ".py",
   "mimetype": "text/x-python",
   "name": "python",
   "nbconvert_exporter": "python",
   "pygments_lexer": "ipython3",
   "version": "3.6.3"
  }
 },
 "nbformat": 4,
 "nbformat_minor": 2
}
